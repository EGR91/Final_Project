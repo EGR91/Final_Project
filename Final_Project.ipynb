{
 "cells": [
  {
   "cell_type": "markdown",
   "metadata": {},
   "source": [
    "# Задание 1. \n",
    "### Условие:\n",
    "\n",
    "Одной из основных задач аналитика в нашей команде является корректное проведение экспериментов. Для этого мы применяем метод A/B–тестирования. В ходе тестирования одной гипотезы целевой группе была предложена новая механика оплаты услуг на сайте, у контрольной группы оставалась базовая механика. В качестве задания Вам необходимо проанализировать итоги эксперимента и сделать вывод, стоит ли запускать новую механику оплаты на всех пользователей."
   ]
  },
  {
   "cell_type": "markdown",
   "metadata": {},
   "source": [
    "### 1.2 Входные данные\n",
    "\n",
    "В качестве входных данных Вы имеете 4 csv-файла:\n",
    "\n",
    "groups.csv - файл с информацией о принадлежности пользователя к контрольной или экспериментальной группе (А – контроль, B – целевая группа)   \n",
    "\n",
    "groups_add.csv - дополнительный файл с пользователями, который вам `прислали спустя 2 дня` после передачи данных   \n",
    "\n",
    "active_studs.csv - файл с информацией о пользователях, которые зашли на платформу в дни проведения эксперимента.    \n",
    "\n",
    "checks.csv - файл с информацией об оплатах пользователей в дни проведения эксперимента. \n"
   ]
  },
  {
   "cell_type": "code",
   "execution_count": 1,
   "metadata": {},
   "outputs": [],
   "source": [
    "import pandas as pd\n",
    "import numpy as np\n",
    "import seaborn as sns\n",
    "import matplotlib.pyplot as plt\n",
    "\n",
    "import pandahouse as ph\n",
    "from scipy import stats\n",
    "from pingouin import qqplot\n",
    "from tqdm.auto import tqdm\n",
    "from scipy.stats import norm\n",
    "\n",
    "from urllib.parse import urlencode\n",
    "import requests\n",
    "import urllib.request\n",
    "\n",
    "\n",
    "\n"
   ]
  },
  {
   "cell_type": "code",
   "execution_count": 2,
   "metadata": {},
   "outputs": [],
   "source": [
    "path1 = '/mnt/HC_Volume_18315164/home-jupyter/jupyter-e-gamesrodriges/fin_project_data/groups.csv'\n",
    "path2 = '/mnt/HC_Volume_18315164/home-jupyter/jupyter-e-gamesrodriges/fin_project_data/group_add.csv'\n",
    "path3 = '/mnt/HC_Volume_18315164/home-jupyter/jupyter-e-gamesrodriges/fin_project_data/active_studs.csv'\n",
    "path4 = '/mnt/HC_Volume_18315164/home-jupyter/jupyter-e-gamesrodriges/fin_project_data/checks.csv'\n"
   ]
  },
  {
   "cell_type": "code",
   "execution_count": 3,
   "metadata": {},
   "outputs": [
    {
     "name": "stderr",
     "output_type": "stream",
     "text": [
      "/opt/tljh/user/lib/python3.7/site-packages/outdated/utils.py:18: OutdatedCacheFailedWarning: Failed to use cache while checking for outdated package.\n",
      "Set the environment variable OUTDATED_RAISE_EXCEPTION=1 for a full traceback.\n",
      "Set the environment variable OUTDATED_IGNORE=1 to disable these warnings.\n",
      "  **kwargs\n",
      "/opt/tljh/user/lib/python3.7/site-packages/outdated/utils.py:18: OutdatedPackageWarning: The package outdated is out of date. Your version is 0.2.1, the latest is 0.2.2.\n",
      "Set the environment variable OUTDATED_IGNORE=1 to disable these warnings.\n",
      "  **kwargs\n",
      "/opt/tljh/user/lib/python3.7/site-packages/outdated/utils.py:18: OutdatedPackageWarning: The package pingouin is out of date. Your version is 0.4.0, the latest is 0.5.3.\n",
      "Set the environment variable OUTDATED_IGNORE=1 to disable these warnings.\n",
      "  **kwargs\n"
     ]
    }
   ],
   "source": [
    "groups_df       = pd.read_csv(path1, sep=';')\n",
    "groups_add_df   = pd.read_csv(path2)\n",
    "active_studs_df = pd.read_csv(path3)\n",
    "checks_df       = pd.read_csv(path4, sep=';')"
   ]
  },
  {
   "cell_type": "markdown",
   "metadata": {},
   "source": [
    "Проверим все таблицы на наличие пропусков и дубликатов:"
   ]
  },
  {
   "cell_type": "code",
   "execution_count": 4,
   "metadata": {},
   "outputs": [
    {
     "name": "stdout",
     "output_type": "stream",
     "text": [
      "1.groups_df\n",
      "(74484, 2)\n",
      "Дубликаты: False\n",
      "\n",
      "Пропуски:\n",
      "id     0\n",
      "grp    0\n",
      "dtype: int64\n",
      "\n",
      "Типы данных:\n",
      "id      int64\n",
      "grp    object\n",
      "dtype: object.\n",
      "------------------\n",
      "2.groups_add_df\n",
      "(92, 2)\n",
      "Дубликаты: False\n",
      "\n",
      "Пропуски:\n",
      "id     0\n",
      "grp    0\n",
      "dtype: int64\n",
      "\n",
      "Типы данных:\n",
      "id      int64\n",
      "grp    object\n",
      "dtype: object.\n",
      "------------------\n",
      "3.active_studs_df\n",
      "(8341, 1)\n",
      "Дубликаты: False\n",
      "\n",
      "Пропуски:\n",
      "student_id    0\n",
      "dtype: int64\n",
      "\n",
      "Типы данных:\n",
      "student_id    int64\n",
      "dtype: object.\n",
      "------------------\n",
      "4.checks_df\n",
      "(541, 2)\n",
      "Дубликаты: False\n",
      "\n",
      "Пропуски:\n",
      "student_id    0\n",
      "rev           0\n",
      "dtype: int64\n",
      "\n",
      "Типы данных:\n",
      "student_id      int64\n",
      "rev           float64\n",
      "dtype: object.\n",
      "------------------\n"
     ]
    }
   ],
   "source": [
    "l = [groups_df, groups_add_df, active_studs_df, checks_df]\n",
    "names = ['groups_df', 'groups_add_df', 'active_studs_df', 'checks_df']\n",
    "\n",
    "for n, i in enumerate(l):\n",
    "    print(f\"{n+1}.{names[n]}\\n{i.shape}\")\n",
    "    print(f\"Дубликаты: {len(i) > len(i.drop_duplicates())}\\n\")\n",
    "    print(f\"Пропуски:\\n{i.isna().sum()}\\n\")\n",
    "    print(f\"Типы данных:\\n{i.dtypes}.\\n------------------\")\n",
    "\n",
    "    \n"
   ]
  },
  {
   "cell_type": "markdown",
   "metadata": {},
   "source": [
    "Посмотрим на количество уникальных пользователей и на размеры групп:\n"
   ]
  },
  {
   "cell_type": "code",
   "execution_count": 5,
   "metadata": {},
   "outputs": [
    {
     "data": {
      "text/html": [
       "<div>\n",
       "<style scoped>\n",
       "    .dataframe tbody tr th:only-of-type {\n",
       "        vertical-align: middle;\n",
       "    }\n",
       "\n",
       "    .dataframe tbody tr th {\n",
       "        vertical-align: top;\n",
       "    }\n",
       "\n",
       "    .dataframe thead th {\n",
       "        text-align: right;\n",
       "    }\n",
       "</style>\n",
       "<table border=\"1\" class=\"dataframe\">\n",
       "  <thead>\n",
       "    <tr style=\"text-align: right;\">\n",
       "      <th></th>\n",
       "      <th>id</th>\n",
       "      <th>grp</th>\n",
       "    </tr>\n",
       "  </thead>\n",
       "  <tbody>\n",
       "    <tr>\n",
       "      <th>0</th>\n",
       "      <td>1489</td>\n",
       "      <td>B</td>\n",
       "    </tr>\n",
       "  </tbody>\n",
       "</table>\n",
       "</div>"
      ],
      "text/plain": [
       "     id grp\n",
       "0  1489   B"
      ]
     },
     "execution_count": 5,
     "metadata": {},
     "output_type": "execute_result"
    }
   ],
   "source": [
    "groups_df.head(1)"
   ]
  },
  {
   "cell_type": "code",
   "execution_count": 6,
   "metadata": {
    "scrolled": false
   },
   "outputs": [
    {
     "name": "stdout",
     "output_type": "stream",
     "text": [
      "74484\n",
      "B    59813\n",
      "A    14671\n",
      "Name: grp, dtype: int64\n"
     ]
    }
   ],
   "source": [
    "print(groups_df.id.nunique())\n",
    "print(groups_df.grp.value_counts())"
   ]
  },
  {
   "cell_type": "code",
   "execution_count": 7,
   "metadata": {},
   "outputs": [
    {
     "data": {
      "text/plain": [
       "19.69684764513184"
      ]
     },
     "execution_count": 7,
     "metadata": {},
     "output_type": "execute_result"
    }
   ],
   "source": [
    "# посмотрим на процент пользователей в контрольной группе\n",
    "14671/74484 * 100"
   ]
  },
  {
   "cell_type": "markdown",
   "metadata": {},
   "source": [
    "**_Мы видим довольно большую разницу в количестве пользователей в группах - соотношение около 20/80, причем 20% пользователей в контрольной группе, что очень странно. Обычно мы хотим или равные группы в АБ тесте, или же если мы хотим протестировать изменения с меньшим риском, мы делаем тестовую группу меньше. Здесь же количество пользователей в тестовой группе является большинством. На этом этапе я бы спросил чем вызвано такое разделение на группы._**"
   ]
  },
  {
   "cell_type": "markdown",
   "metadata": {},
   "source": [
    "Объединим наш основной датафрейм с дополнительным файлом, который прислали спустя 2 дня:"
   ]
  },
  {
   "cell_type": "code",
   "execution_count": 8,
   "metadata": {},
   "outputs": [
    {
     "data": {
      "text/plain": [
       "(74576, 2)"
      ]
     },
     "execution_count": 8,
     "metadata": {},
     "output_type": "execute_result"
    }
   ],
   "source": [
    "frames = [groups_df, groups_add_df]\n",
    "\n",
    "all_users_df = pd.concat(frames, ignore_index=True)\n",
    "all_users_df.shape"
   ]
  },
  {
   "cell_type": "markdown",
   "metadata": {},
   "source": [
    "Переименуем колонки, чтобы объединить таблицу активных студентов с таблицей всех пользователей, и объединим:"
   ]
  },
  {
   "cell_type": "code",
   "execution_count": 9,
   "metadata": {
    "scrolled": true
   },
   "outputs": [
    {
     "name": "stdout",
     "output_type": "stream",
     "text": [
      "(8341, 2)\n"
     ]
    },
    {
     "data": {
      "text/html": [
       "<div>\n",
       "<style scoped>\n",
       "    .dataframe tbody tr th:only-of-type {\n",
       "        vertical-align: middle;\n",
       "    }\n",
       "\n",
       "    .dataframe tbody tr th {\n",
       "        vertical-align: top;\n",
       "    }\n",
       "\n",
       "    .dataframe thead th {\n",
       "        text-align: right;\n",
       "    }\n",
       "</style>\n",
       "<table border=\"1\" class=\"dataframe\">\n",
       "  <thead>\n",
       "    <tr style=\"text-align: right;\">\n",
       "      <th></th>\n",
       "      <th>id</th>\n",
       "      <th>grp</th>\n",
       "    </tr>\n",
       "  </thead>\n",
       "  <tbody>\n",
       "    <tr>\n",
       "      <th>0</th>\n",
       "      <td>581585</td>\n",
       "      <td>A</td>\n",
       "    </tr>\n",
       "  </tbody>\n",
       "</table>\n",
       "</div>"
      ],
      "text/plain": [
       "       id grp\n",
       "0  581585   A"
      ]
     },
     "execution_count": 9,
     "metadata": {},
     "output_type": "execute_result"
    }
   ],
   "source": [
    "active_studs_df = active_studs_df.rename(columns={'student_id': 'id'})\n",
    "\n",
    "active_groups = active_studs_df.merge(all_users_df, on='id', how='left')\n",
    "\n",
    "print(active_groups.shape)\n",
    "active_groups.head(1)\n"
   ]
  },
  {
   "cell_type": "markdown",
   "metadata": {},
   "source": [
    "То же самое проделаем для таблицы с оплатой:"
   ]
  },
  {
   "cell_type": "code",
   "execution_count": 10,
   "metadata": {},
   "outputs": [
    {
     "data": {
      "text/html": [
       "<div>\n",
       "<style scoped>\n",
       "    .dataframe tbody tr th:only-of-type {\n",
       "        vertical-align: middle;\n",
       "    }\n",
       "\n",
       "    .dataframe tbody tr th {\n",
       "        vertical-align: top;\n",
       "    }\n",
       "\n",
       "    .dataframe thead th {\n",
       "        text-align: right;\n",
       "    }\n",
       "</style>\n",
       "<table border=\"1\" class=\"dataframe\">\n",
       "  <thead>\n",
       "    <tr style=\"text-align: right;\">\n",
       "      <th></th>\n",
       "      <th>id</th>\n",
       "      <th>grp</th>\n",
       "      <th>rev</th>\n",
       "    </tr>\n",
       "  </thead>\n",
       "  <tbody>\n",
       "    <tr>\n",
       "      <th>0</th>\n",
       "      <td>581585</td>\n",
       "      <td>A</td>\n",
       "      <td>0.0</td>\n",
       "    </tr>\n",
       "  </tbody>\n",
       "</table>\n",
       "</div>"
      ],
      "text/plain": [
       "       id grp  rev\n",
       "0  581585   A  0.0"
      ]
     },
     "execution_count": 10,
     "metadata": {},
     "output_type": "execute_result"
    }
   ],
   "source": [
    "checks_df = checks_df.rename(columns={'student_id': 'id'})\n",
    "\n",
    "# сразу же заполним нулями там, где нет оплаты\n",
    "full_df = active_groups.merge(checks_df, on='id', how='left').fillna(0)\n",
    "\n",
    "full_df.head(1)"
   ]
  },
  {
   "cell_type": "markdown",
   "metadata": {},
   "source": [
    "Посмотрим на количество людей в каждой группе:"
   ]
  },
  {
   "cell_type": "code",
   "execution_count": 11,
   "metadata": {},
   "outputs": [
    {
     "data": {
      "text/plain": [
       "B    6803\n",
       "A    1538\n",
       "Name: grp, dtype: int64"
      ]
     },
     "execution_count": 11,
     "metadata": {},
     "output_type": "execute_result"
    }
   ],
   "source": [
    "full_df.grp.value_counts()"
   ]
  },
  {
   "cell_type": "code",
   "execution_count": 12,
   "metadata": {},
   "outputs": [
    {
     "data": {
      "text/plain": [
       "0.18439036086800145"
      ]
     },
     "execution_count": 12,
     "metadata": {},
     "output_type": "execute_result"
    }
   ],
   "source": [
    "1538 / (1538 + 6803)"
   ]
  },
  {
   "cell_type": "markdown",
   "metadata": {},
   "source": [
    "`Среди активных пользователей примерно такое же отношение количества людей в контрольной и тестовой группах как и среди всех пользователей.`"
   ]
  },
  {
   "cell_type": "markdown",
   "metadata": {},
   "source": [
    "Посмотрим на количество платящих пользователей в каждой группе:"
   ]
  },
  {
   "cell_type": "code",
   "execution_count": 13,
   "metadata": {},
   "outputs": [
    {
     "data": {
      "text/plain": [
       "grp\n",
       "A     78\n",
       "B    314\n",
       "Name: id, dtype: int64"
      ]
     },
     "execution_count": 13,
     "metadata": {},
     "output_type": "execute_result"
    }
   ],
   "source": [
    "full_df.query('rev > 0') \\\n",
    "    .groupby('grp') \\\n",
    "    .id.count()"
   ]
  },
  {
   "cell_type": "markdown",
   "metadata": {},
   "source": [
    "## !!!\n",
    "\n",
    "**_На данном этапе стоит отметить, что общее количество платящих пользователей которые зашли на платформу во время проведения эксперимента - 392 человека, однако в таблице с оплатой `checks_df` у нас 541 уникальных пользователей, которые совершили оплату. Это значит, что каким-то образом 149 пользователей совершили оплату при этом не заходя на платформу во время эксперимента. Эту ошибку тоже стоит уточнить._**\n"
   ]
  },
  {
   "cell_type": "code",
   "execution_count": 14,
   "metadata": {},
   "outputs": [
    {
     "data": {
      "text/plain": [
       "id     541\n",
       "rev     39\n",
       "dtype: int64"
      ]
     },
     "execution_count": 14,
     "metadata": {},
     "output_type": "execute_result"
    }
   ],
   "source": [
    "checks_df.nunique()"
   ]
  },
  {
   "cell_type": "code",
   "execution_count": 15,
   "metadata": {},
   "outputs": [
    {
     "data": {
      "text/plain": [
       "149"
      ]
     },
     "execution_count": 15,
     "metadata": {},
     "output_type": "execute_result"
    }
   ],
   "source": [
    "541-392"
   ]
  },
  {
   "cell_type": "markdown",
   "metadata": {},
   "source": [
    "### Метрики для анализа.\n",
    "\n",
    "В данном случае нам важна метрика CR - конверсия в покупку, а так же ARPPU и ARPU - средняя выручка с каждого платящего пользователя и средняя выручка со всех пользователей участвовавших в эксперименте. Проанализировав эти метрики мы сможем понять, внедрять новую систему оплаты или нет. "
   ]
  },
  {
   "cell_type": "markdown",
   "metadata": {},
   "source": [
    "Соберем все метрики для удобства в одну таблицу:"
   ]
  },
  {
   "cell_type": "code",
   "execution_count": 16,
   "metadata": {
    "scrolled": true
   },
   "outputs": [
    {
     "data": {
      "text/html": [
       "<div>\n",
       "<style scoped>\n",
       "    .dataframe tbody tr th:only-of-type {\n",
       "        vertical-align: middle;\n",
       "    }\n",
       "\n",
       "    .dataframe tbody tr th {\n",
       "        vertical-align: top;\n",
       "    }\n",
       "\n",
       "    .dataframe thead th {\n",
       "        text-align: right;\n",
       "    }\n",
       "</style>\n",
       "<table border=\"1\" class=\"dataframe\">\n",
       "  <thead>\n",
       "    <tr style=\"text-align: right;\">\n",
       "      <th></th>\n",
       "      <th>group</th>\n",
       "      <th>total_users</th>\n",
       "      <th>paying_users</th>\n",
       "      <th>revenue</th>\n",
       "      <th>CR</th>\n",
       "      <th>ARPU</th>\n",
       "      <th>ARPPU</th>\n",
       "    </tr>\n",
       "  </thead>\n",
       "  <tbody>\n",
       "    <tr>\n",
       "      <th>0</th>\n",
       "      <td>Control</td>\n",
       "      <td>1538</td>\n",
       "      <td>78</td>\n",
       "      <td>72820.0000</td>\n",
       "      <td>5.071521</td>\n",
       "      <td>47.347204</td>\n",
       "      <td>933.589744</td>\n",
       "    </tr>\n",
       "    <tr>\n",
       "      <th>1</th>\n",
       "      <td>Test</td>\n",
       "      <td>6803</td>\n",
       "      <td>314</td>\n",
       "      <td>394974.0035</td>\n",
       "      <td>4.615611</td>\n",
       "      <td>58.058798</td>\n",
       "      <td>1257.878992</td>\n",
       "    </tr>\n",
       "  </tbody>\n",
       "</table>\n",
       "</div>"
      ],
      "text/plain": [
       "     group  total_users  paying_users      revenue        CR       ARPU  \\\n",
       "0  Control         1538            78   72820.0000  5.071521  47.347204   \n",
       "1     Test         6803           314  394974.0035  4.615611  58.058798   \n",
       "\n",
       "         ARPPU  \n",
       "0   933.589744  \n",
       "1  1257.878992  "
      ]
     },
     "execution_count": 16,
     "metadata": {},
     "output_type": "execute_result"
    }
   ],
   "source": [
    "# переименуем названия групп из \"A\" & \"B\" в \"Control\" & \"Test\", чтобы потом было удобнее визуализировать\n",
    "full_df['grp'] = full_df['grp'].apply(lambda x: 'Control' if x == 'A' else 'Test')\n",
    "\n",
    "# добавляем колонку оплатил/не оплатил\n",
    "full_df['category'] = full_df['rev'].apply(lambda x: 1 if x > 0 else 0)\n",
    "\n",
    "# создаем финальный датафрейм со всеми метриками\n",
    "final_metrics_df = full_df.groupby('grp', as_index=False) \\\n",
    "    .agg({'id': 'count',\n",
    "          'category': 'sum',\n",
    "          'rev': 'sum'}) \\\n",
    "    .rename(columns={'grp': 'group',\n",
    "                     'id': 'total_users',\n",
    "                     'category': 'paying_users',\n",
    "                     'rev': 'revenue'})\n",
    "\n",
    "final_metrics_df['CR'] = final_metrics_df.paying_users / final_metrics_df.total_users * 100\n",
    "final_metrics_df['ARPU'] = final_metrics_df.revenue / final_metrics_df.total_users\n",
    "final_metrics_df['ARPPU'] = final_metrics_df.revenue / final_metrics_df.paying_users\n",
    "\n",
    "\n",
    "final_metrics_df"
   ]
  },
  {
   "cell_type": "code",
   "execution_count": 17,
   "metadata": {},
   "outputs": [
    {
     "name": "stdout",
     "output_type": "stream",
     "text": [
      "-0.09\n",
      "0.226\n",
      "0.347\n"
     ]
    }
   ],
   "source": [
    "print(-round(1 - final_metrics_df.query(\"group == 'Test'\")['CR'][1] / #CR difference\n",
    "          final_metrics_df.query(\"group == 'Control'\")['CR'][0],3))\n",
    "print(-round(1 - final_metrics_df.query(\"group == 'Test'\")['ARPU'][1] / #ARPU difference\n",
    "          final_metrics_df.query(\"group == 'Control'\")['ARPU'][0],3)) \n",
    "print(-round(1 - final_metrics_df.query(\"group == 'Test'\")['ARPPU'][1] / #ARPPU difference\n",
    "          final_metrics_df.query(\"group == 'Control'\")['ARPPU'][0],3))"
   ]
  },
  {
   "cell_type": "markdown",
   "metadata": {},
   "source": [
    "#### Здесь интересно подметить то, что CR в тестовой группе понизился по сравнению с контрольной на 9 процентов, но при этом ARPU и ARPPU довольно значительно выросли. Позже мы проверим статзначимость этих результатов.  Посмотрим на распределение выручки в обеих группах по процентилям:"
   ]
  },
  {
   "cell_type": "code",
   "execution_count": 18,
   "metadata": {},
   "outputs": [
    {
     "data": {
      "text/plain": [
       "count      78.000000\n",
       "mean      933.589744\n",
       "std       919.932711\n",
       "min       199.000000\n",
       "25%       290.000000\n",
       "50%       585.000000\n",
       "75%      1114.750000\n",
       "max      3660.000000\n",
       "Name: rev, dtype: float64"
      ]
     },
     "execution_count": 18,
     "metadata": {},
     "output_type": "execute_result"
    }
   ],
   "source": [
    "full_df.query('grp == \"Control\" & rev > 0').rev.describe()"
   ]
  },
  {
   "cell_type": "code",
   "execution_count": 19,
   "metadata": {
    "scrolled": true
   },
   "outputs": [
    {
     "data": {
      "text/plain": [
       "count     314.000000\n",
       "mean     1257.878992\n",
       "std       790.864254\n",
       "min       199.000000\n",
       "25%       511.750000\n",
       "50%      1140.000000\n",
       "75%      1900.000000\n",
       "max      4650.000000\n",
       "Name: rev, dtype: float64"
      ]
     },
     "execution_count": 19,
     "metadata": {},
     "output_type": "execute_result"
    }
   ],
   "source": [
    "full_df.query('grp == \"Test\" & rev > 0').rev.describe()"
   ]
  },
  {
   "cell_type": "markdown",
   "metadata": {},
   "source": [
    "#### Как мы видим, в контрольной группе только 25% пользователи совершали покупки больше чем на 1114 рублей, в то время как в тестовой группе 50% совершали покупки больше чем на 1140 рублей. То есть хоть и CR в контрольной группе был больше, в тестовой группе больше пользователей совершали более дорогие покупки."
   ]
  },
  {
   "cell_type": "markdown",
   "metadata": {},
   "source": [
    "Визуализируем наши метрики:"
   ]
  },
  {
   "cell_type": "code",
   "execution_count": 20,
   "metadata": {},
   "outputs": [
    {
     "data": {
      "image/png": "[encoded data removed]",
      "text/plain": [
       "<Figure size 864x576 with 4 Axes>"
      ]
     },
     "metadata": {},
     "output_type": "display_data"
    }
   ],
   "source": [
    "sns.set_style(\"whitegrid\")\n",
    "\n",
    "fig, ((ax1, ax2), (ax3, ax4)) = plt.subplots(2, 2, figsize=(12, 8))\n",
    "\n",
    "sns.barplot(data=final_metrics_df, x = 'group', y = 'revenue', ax=ax1)\n",
    "sns.barplot(data=final_metrics_df, x = 'group', y = 'ARPPU',   ax=ax2)\n",
    "sns.barplot(data=final_metrics_df, x = 'group', y = 'CR',      ax=ax3)\n",
    "sns.barplot(data=final_metrics_df, x = 'group', y = 'ARPU',    ax=ax4)\n",
    "\n",
    "ax1.set_ylabel('Revenue')\n",
    "ax3.set_ylabel('CR(%)')\n",
    "\n",
    "ax1.set_xlabel('')\n",
    "ax2.set_xlabel('')\n",
    "ax3.set_xlabel('')\n",
    "ax4.set_xlabel('')\n",
    "\n",
    "plt.show()"
   ]
  },
  {
   "cell_type": "markdown",
   "metadata": {},
   "source": [
    "### 1. Анализ CR \n",
    "Посмотрим на конверсию в покупку в обеих группах:"
   ]
  },
  {
   "cell_type": "code",
   "execution_count": 21,
   "metadata": {},
   "outputs": [
    {
     "name": "stdout",
     "output_type": "stream",
     "text": [
      "Control: 5.07%\n",
      "Test: 4.62%\n"
     ]
    }
   ],
   "source": [
    "conversion_control = full_df.query('grp == \"Control\" & rev > 0').id.count() / full_df.query('grp == \"Control\"').id.count()\n",
    "conversion_test    = full_df.query('grp == \"Test\" & rev > 0').id.count() / full_df.query('grp == \"Test\"').id.count()\n",
    "\n",
    "print(f'Control: {round(conversion_control*100, 2)}%')\n",
    "print(f'Test: {round(conversion_test*100,2)}%')"
   ]
  },
  {
   "cell_type": "markdown",
   "metadata": {},
   "source": [
    "Как видим, незначительная разница в конверсии есть. Но теперь используем тест хи-квадрат, чтобы проверить статзначимы ли эти различия. \n",
    "\n",
    "`H0 = нет различий в CR между двумя группами.`"
   ]
  },
  {
   "cell_type": "code",
   "execution_count": 22,
   "metadata": {},
   "outputs": [
    {
     "data": {
      "text/html": [
       "<div>\n",
       "<style scoped>\n",
       "    .dataframe tbody tr th:only-of-type {\n",
       "        vertical-align: middle;\n",
       "    }\n",
       "\n",
       "    .dataframe tbody tr th {\n",
       "        vertical-align: top;\n",
       "    }\n",
       "\n",
       "    .dataframe thead th {\n",
       "        text-align: right;\n",
       "    }\n",
       "</style>\n",
       "<table border=\"1\" class=\"dataframe\">\n",
       "  <thead>\n",
       "    <tr style=\"text-align: right;\">\n",
       "      <th></th>\n",
       "      <th>id</th>\n",
       "      <th>grp</th>\n",
       "      <th>rev</th>\n",
       "      <th>category</th>\n",
       "    </tr>\n",
       "  </thead>\n",
       "  <tbody>\n",
       "    <tr>\n",
       "      <th>8336</th>\n",
       "      <td>1794344</td>\n",
       "      <td>Test</td>\n",
       "      <td>0.0</td>\n",
       "      <td>0</td>\n",
       "    </tr>\n",
       "    <tr>\n",
       "      <th>8337</th>\n",
       "      <td>296883</td>\n",
       "      <td>Test</td>\n",
       "      <td>0.0</td>\n",
       "      <td>0</td>\n",
       "    </tr>\n",
       "    <tr>\n",
       "      <th>8338</th>\n",
       "      <td>3598448</td>\n",
       "      <td>Test</td>\n",
       "      <td>0.0</td>\n",
       "      <td>0</td>\n",
       "    </tr>\n",
       "    <tr>\n",
       "      <th>8339</th>\n",
       "      <td>3610547</td>\n",
       "      <td>Test</td>\n",
       "      <td>290.0</td>\n",
       "      <td>1</td>\n",
       "    </tr>\n",
       "    <tr>\n",
       "      <th>8340</th>\n",
       "      <td>205705</td>\n",
       "      <td>Test</td>\n",
       "      <td>0.0</td>\n",
       "      <td>0</td>\n",
       "    </tr>\n",
       "  </tbody>\n",
       "</table>\n",
       "</div>"
      ],
      "text/plain": [
       "           id   grp    rev  category\n",
       "8336  1794344  Test    0.0         0\n",
       "8337   296883  Test    0.0         0\n",
       "8338  3598448  Test    0.0         0\n",
       "8339  3610547  Test  290.0         1\n",
       "8340   205705  Test    0.0         0"
      ]
     },
     "execution_count": 22,
     "metadata": {},
     "output_type": "execute_result"
    }
   ],
   "source": [
    "full_df.tail()"
   ]
  },
  {
   "cell_type": "code",
   "execution_count": 23,
   "metadata": {},
   "outputs": [
    {
     "data": {
      "text/html": [
       "<div>\n",
       "<style scoped>\n",
       "    .dataframe tbody tr th:only-of-type {\n",
       "        vertical-align: middle;\n",
       "    }\n",
       "\n",
       "    .dataframe tbody tr th {\n",
       "        vertical-align: top;\n",
       "    }\n",
       "\n",
       "    .dataframe thead th {\n",
       "        text-align: right;\n",
       "    }\n",
       "</style>\n",
       "<table border=\"1\" class=\"dataframe\">\n",
       "  <thead>\n",
       "    <tr style=\"text-align: right;\">\n",
       "      <th>category</th>\n",
       "      <th>0</th>\n",
       "      <th>1</th>\n",
       "    </tr>\n",
       "    <tr>\n",
       "      <th>grp</th>\n",
       "      <th></th>\n",
       "      <th></th>\n",
       "    </tr>\n",
       "  </thead>\n",
       "  <tbody>\n",
       "    <tr>\n",
       "      <th>Control</th>\n",
       "      <td>1460</td>\n",
       "      <td>78</td>\n",
       "    </tr>\n",
       "    <tr>\n",
       "      <th>Test</th>\n",
       "      <td>6489</td>\n",
       "      <td>314</td>\n",
       "    </tr>\n",
       "  </tbody>\n",
       "</table>\n",
       "</div>"
      ],
      "text/plain": [
       "category     0    1\n",
       "grp                \n",
       "Control   1460   78\n",
       "Test      6489  314"
      ]
     },
     "execution_count": 23,
     "metadata": {},
     "output_type": "execute_result"
    }
   ],
   "source": [
    "# Используем кросстаб, чтобы создать таблицу сопряженности\n",
    "contingency = pd.crosstab(full_df['grp'],full_df['category'])\n",
    "contingency"
   ]
  },
  {
   "cell_type": "code",
   "execution_count": 24,
   "metadata": {},
   "outputs": [
    {
     "name": "stdout",
     "output_type": "stream",
     "text": [
      "Статистика = 0.48480826522557896\n",
      "p-value = 0.48625240457231045\n"
     ]
    }
   ],
   "source": [
    "res = stats.chi2_contingency(contingency)\n",
    "print(f'Статистика = {res[0]}')\n",
    "print(f'p-value = {res[1]}')"
   ]
  },
  {
   "cell_type": "markdown",
   "metadata": {},
   "source": [
    "##### Вывод: как мы видим, p-value > 0.05, поэтому мы не можем отвергнуть H0. Значимых различий в Conversion Rate между тестовой и контрольной группами нет. "
   ]
  },
  {
   "cell_type": "markdown",
   "metadata": {},
   "source": [
    "### 2. Анализ ARPPU\n",
    "Теперь посмотрим на среднюю выручку в каждой группе среди платящих пользователей:"
   ]
  },
  {
   "cell_type": "code",
   "execution_count": 25,
   "metadata": {},
   "outputs": [
    {
     "name": "stdout",
     "output_type": "stream",
     "text": [
      "933.59\n",
      "1257.88\n"
     ]
    }
   ],
   "source": [
    "control_ARPPU = full_df.query('grp == \"Control\" & rev > 0').rev\n",
    "test_ARPPU = full_df.query('grp == \"Test\" & rev > 0').rev\n",
    "\n",
    "print(round(control_ARPPU.mean(), 2))\n",
    "print(round(test_ARPPU.mean(), 2))"
   ]
  },
  {
   "cell_type": "code",
   "execution_count": 26,
   "metadata": {},
   "outputs": [
    {
     "name": "stdout",
     "output_type": "stream",
     "text": [
      "34.74 %\n"
     ]
    }
   ],
   "source": [
    "print(round((test_ARPPU.mean() / control_ARPPU.mean() - 1)  * 100,2),'%')"
   ]
  },
  {
   "cell_type": "markdown",
   "metadata": {},
   "source": [
    "**_Мы видим довольно значительную разницу в ARPPU между двумя группами. В тестовой группе выручка выросла почти на 35%._**\n",
    "\n",
    "Теперь давайте проверим статистически ли значимый этот результат."
   ]
  },
  {
   "cell_type": "markdown",
   "metadata": {},
   "source": [
    "Проверим данные на нормальность (H0 = данные распределены нормально):"
   ]
  },
  {
   "cell_type": "code",
   "execution_count": 27,
   "metadata": {
    "scrolled": true
   },
   "outputs": [
    {
     "name": "stdout",
     "output_type": "stream",
     "text": [
      "NormaltestResult(statistic=30.378419638487458, pvalue=2.531686880422046e-07)\n",
      "NormaltestResult(statistic=6.795662714490353, pvalue=0.033445723194625424)\n"
     ]
    }
   ],
   "source": [
    "print(stats.normaltest(control_ARPPU))\n",
    "print(stats.normaltest(test_ARPPU))"
   ]
  },
  {
   "cell_type": "markdown",
   "metadata": {},
   "source": [
    "`p-value < 0.05, отклоняем нулевую гипотезу, данные распределены не нормально.`"
   ]
  },
  {
   "cell_type": "markdown",
   "metadata": {},
   "source": [
    "Посмотрим на распределение на графике:"
   ]
  },
  {
   "cell_type": "code",
   "execution_count": 28,
   "metadata": {},
   "outputs": [
    {
     "data": {
      "image/png": "[encoded data removed]",
      "text/plain": [
       "<Figure size 720x432 with 2 Axes>"
      ]
     },
     "metadata": {},
     "output_type": "display_data"
    }
   ],
   "source": [
    "fig, (ax1, ax2) = plt.subplots(1, 2, figsize=(10, 6))\n",
    "ax1 = sns.histplot(control_ARPPU, ax=ax1, label = 'control_ARPPU', color='green')\n",
    "ax2 = sns.histplot(test_ARPPU, ax=ax2, label = 'test_ARPPU', color='lightblue')\n",
    "ax1.legend()\n",
    "ax2.legend()\n",
    "plt.show()"
   ]
  },
  {
   "cell_type": "markdown",
   "metadata": {},
   "source": [
    "А так же посмотрим на qqplot:"
   ]
  },
  {
   "cell_type": "code",
   "execution_count": 29,
   "metadata": {
    "scrolled": false
   },
   "outputs": [
    {
     "data": {
      "image/png": "[encoded data removed]",
      "text/plain": [
       "<Figure size 720x432 with 2 Axes>"
      ]
     },
     "metadata": {},
     "output_type": "display_data"
    }
   ],
   "source": [
    "fig, (ax1, ax2) = plt.subplots(1, 2, figsize=(10, 6))\n",
    "ax1 = qqplot(control_ARPPU, dist='norm', ax=ax1)\n",
    "ax2 = qqplot(test_ARPPU, dist='norm', ax=ax2)"
   ]
  },
  {
   "cell_type": "markdown",
   "metadata": {},
   "source": [
    "Проверим являются ли дисперсии внутри групп примерно одинаковыми (гомогенными) с помощью теста Левена. Т.к. данные распределены не нормально, будем использовать параметр \"median\"."
   ]
  },
  {
   "cell_type": "code",
   "execution_count": 30,
   "metadata": {},
   "outputs": [
    {
     "name": "stdout",
     "output_type": "stream",
     "text": [
      "LeveneResult(statistic=3.0756816999816055, pvalue=0.08025675761347022)\n"
     ]
    }
   ],
   "source": [
    "print(stats.levene(control_ARPPU, test_ARPPU, center='median'))"
   ]
  },
  {
   "cell_type": "markdown",
   "metadata": {},
   "source": [
    "p-value > 0.05, НЕ отклоняем нулевую гипотезу (дисперсии являются гомогенными)."
   ]
  },
  {
   "cell_type": "markdown",
   "metadata": {},
   "source": [
    "Построим графики boxplot, чтобы посмотреть если ли в данных выбросы:"
   ]
  },
  {
   "cell_type": "code",
   "execution_count": 31,
   "metadata": {},
   "outputs": [
    {
     "data": {
      "image/png": "[encoded data removed]",
      "text/plain": [
       "<Figure size 432x288 with 2 Axes>"
      ]
     },
     "metadata": {},
     "output_type": "display_data"
    }
   ],
   "source": [
    "figure, (ax1, ax2) = plt.subplots(1,2)\n",
    "ax1.boxplot(x = control_ARPPU);\n",
    "ax1.set_title('Control');\n",
    "ax2.boxplot(x = test_ARPPU);\n",
    "ax2.set_title('Test');"
   ]
  },
  {
   "cell_type": "markdown",
   "metadata": {},
   "source": [
    "**Для проверки статзначимости используем метод bootstrap. Мы сравниваем среднюю выручку, поэтому будем использовать статистику `mean`**\n",
    "\n",
    "H0 = нет различий в ARPPU между тестовой и контрольной группой."
   ]
  },
  {
   "cell_type": "code",
   "execution_count": 32,
   "metadata": {},
   "outputs": [],
   "source": [
    "def get_bootstrap(\n",
    "    data_column_1, # числовые значения первой выборки\n",
    "    data_column_2, # числовые значения второй выборки\n",
    "    boot_num = 1000, # количество бутстрэп-подвыборок\n",
    "    statistic = np.mean, # интересующая нас статистика\n",
    "    bootstrap_conf_level = 0.95 # уровень значимости\n",
    "):\n",
    "    boot_len = max([len(data_column_1), len(data_column_2)])\n",
    "    boot_data = []\n",
    "    for i in tqdm(range(boot_num)): # извлекаем подвыборки\n",
    "        samples_1 = data_column_1.sample(\n",
    "            boot_len, \n",
    "            replace = True # параметр возвращения\n",
    "        ).values\n",
    "        \n",
    "        samples_2 = data_column_2.sample(\n",
    "            boot_len, # чтобы сохранить дисперсию, берем такой же размер выборки\n",
    "            replace = True\n",
    "        ).values\n",
    "        \n",
    "        boot_data.append(statistic(samples_1-samples_2)) \n",
    "    pd_boot_data = pd.DataFrame(boot_data)\n",
    "        \n",
    "    left_quant = (1 - bootstrap_conf_level)/2\n",
    "    right_quant = 1 - (1 - bootstrap_conf_level) / 2\n",
    "    quants = pd_boot_data.quantile([left_quant, right_quant])\n",
    "        \n",
    "    p_1 = norm.cdf(\n",
    "        x = 0, \n",
    "        loc = np.mean(boot_data), \n",
    "        scale = np.std(boot_data)\n",
    "    )\n",
    "    p_2 = norm.cdf(\n",
    "        x = 0, \n",
    "        loc = -np.mean(boot_data), \n",
    "        scale = np.std(boot_data)\n",
    "    )\n",
    "    p_value = min(p_1, p_2) * 2\n",
    "        \n",
    "    # Визуализация\n",
    "    _, _, bars = plt.hist(pd_boot_data[0], bins = 50)\n",
    "    for bar in bars:\n",
    "        if abs(bar.get_x()) <= quants.iloc[0][0] or abs(bar.get_x()) >= quants.iloc[1][0]:\n",
    "            bar.set_facecolor('red')\n",
    "        else: \n",
    "            bar.set_facecolor('grey')\n",
    "            bar.set_edgecolor('black')\n",
    "    \n",
    "    plt.style.use('ggplot')\n",
    "    plt.vlines(quants,ymin=0,ymax=50,linestyle='--')\n",
    "    plt.xlabel('boot_data')\n",
    "    plt.ylabel('frequency')\n",
    "    plt.title(\"Histogram of boot_data\")\n",
    "    plt.show()\n",
    "       \n",
    "    return {#\"boot_data\": boot_data, \n",
    "            \"quants\": quants, \n",
    "            \"p_value\": p_value}"
   ]
  },
  {
   "cell_type": "code",
   "execution_count": 33,
   "metadata": {},
   "outputs": [
    {
     "data": {
      "application/vnd.jupyter.widget-view+json": {
       "model_id": "b8183bf42961426686a6628da4b7268e",
       "version_major": 2,
       "version_minor": 0
      },
      "text/plain": [
       "HBox(children=(FloatProgress(value=0.0, max=1000.0), HTML(value='')))"
      ]
     },
     "metadata": {},
     "output_type": "display_data"
    },
    {
     "name": "stdout",
     "output_type": "stream",
     "text": [
      "\n"
     ]
    },
    {
     "data": {
      "image/png": "[encoded data removed]",
      "text/plain": [
       "<Figure size 432x288 with 1 Axes>"
      ]
     },
     "metadata": {},
     "output_type": "display_data"
    },
    {
     "data": {
      "text/plain": [
       "{'quants':                 0\n",
       " 0.025 -457.519358\n",
       " 0.975 -186.299216,\n",
       " 'p_value': 2.5841483571984284e-06}"
      ]
     },
     "execution_count": 33,
     "metadata": {},
     "output_type": "execute_result"
    }
   ],
   "source": [
    "get_bootstrap(control_ARPPU, test_ARPPU)"
   ]
  },
  {
   "cell_type": "markdown",
   "metadata": {},
   "source": [
    "`0 не входит в доверительный интервал, а p-value значительно меньше 0.05, а значит мы отклоняем нулевую гипотезу. Разница в ARPPU между тестовой и контрольной группами есть.`"
   ]
  },
  {
   "cell_type": "markdown",
   "metadata": {},
   "source": [
    "### 3. Анализ ARPU"
   ]
  },
  {
   "cell_type": "markdown",
   "metadata": {},
   "source": [
    "Посмотрим на среднюю выручку с каждого пользователя."
   ]
  },
  {
   "cell_type": "code",
   "execution_count": 34,
   "metadata": {},
   "outputs": [
    {
     "name": "stdout",
     "output_type": "stream",
     "text": [
      "47.35\n",
      "58.06\n"
     ]
    }
   ],
   "source": [
    "control_ARPU = full_df.query('grp == \"Control\"').rev\n",
    "test_ARPU = full_df.query('grp == \"Test\"').rev\n",
    "\n",
    "print(round(control_ARPU.mean(), 2))\n",
    "print(round(test_ARPU.mean(), 2))"
   ]
  },
  {
   "cell_type": "code",
   "execution_count": 35,
   "metadata": {},
   "outputs": [
    {
     "name": "stdout",
     "output_type": "stream",
     "text": [
      "22.62 %\n"
     ]
    }
   ],
   "source": [
    "print(round((test_ARPU.mean() / control_ARPU.mean() - 1) * 100,2),'%')"
   ]
  },
  {
   "cell_type": "markdown",
   "metadata": {},
   "source": [
    "ARPU в тестовой группе увеличилось примерно на 22.6%. Проверим статзначимость этого результата."
   ]
  },
  {
   "cell_type": "markdown",
   "metadata": {},
   "source": [
    "Проверим нормальность и гомогенность данных."
   ]
  },
  {
   "cell_type": "code",
   "execution_count": 36,
   "metadata": {},
   "outputs": [
    {
     "name": "stdout",
     "output_type": "stream",
     "text": [
      "NormaltestResult(statistic=2240.5957974074026, pvalue=0.0)\n",
      "NormaltestResult(statistic=7797.399211581946, pvalue=0.0)\n",
      "p-value < 0.05. Распределение не нормально.\n",
      "\n",
      "LeveneResult(statistic=1.5014608294336371, pvalue=0.22048133327049665)\n",
      "p-value > 0.05. Дисперсии гомогенны.\n",
      "\n"
     ]
    }
   ],
   "source": [
    "print(stats.normaltest(control_ARPU))\n",
    "print(stats.normaltest(test_ARPU))\n",
    "print('p-value < 0.05. Распределение не нормально.\\n')\n",
    "print(stats.levene(control_ARPU, test_ARPU, center='median'))\n",
    "print('p-value > 0.05. Дисперсии гомогенны.\\n')\n"
   ]
  },
  {
   "cell_type": "markdown",
   "metadata": {},
   "source": [
    "Посмотрим на выбросы:"
   ]
  },
  {
   "cell_type": "code",
   "execution_count": 37,
   "metadata": {},
   "outputs": [
    {
     "data": {
      "image/png": "[encoded data removed]",
      "text/plain": [
       "<Figure size 432x288 with 2 Axes>"
      ]
     },
     "metadata": {},
     "output_type": "display_data"
    }
   ],
   "source": [
    "figure, (ax1, ax2) = plt.subplots(1,2)\n",
    "ax1.boxplot(x = control_ARPU);\n",
    "ax1.set_title('Control');\n",
    "ax2.boxplot(x = test_ARPU);\n",
    "ax2.set_title('Test');"
   ]
  },
  {
   "cell_type": "markdown",
   "metadata": {},
   "source": [
    "Мы видим, что большинство значений в наших выборках равно 0, т.к. большинство пользователей неплатящие."
   ]
  },
  {
   "cell_type": "markdown",
   "metadata": {},
   "source": [
    "**Так же применим метод bootstrap. Здесь мы тоже используем в качестве статистики среднее.**\n",
    "\n",
    "H0 = нет различий в ARPU среди всех пользователей между тестовой и контрольной группой."
   ]
  },
  {
   "cell_type": "code",
   "execution_count": 38,
   "metadata": {},
   "outputs": [],
   "source": [
    "def get_bootstrap(\n",
    "    data_column_1, # числовые значения первой выборки\n",
    "    data_column_2, # числовые значения второй выборки\n",
    "    boot_num = 1000, # количество бутстрэп-подвыборок\n",
    "    statistic = np.mean, # интересующая нас статистика\n",
    "    bootstrap_conf_level = 0.95 # уровень значимости\n",
    "):\n",
    "    boot_len = max([len(data_column_1), len(data_column_2)])\n",
    "    boot_data = []\n",
    "    for i in tqdm(range(boot_num)): # извлекаем подвыборки\n",
    "        samples_1 = data_column_1.sample(\n",
    "            boot_len, \n",
    "            replace = True # параметр возвращения\n",
    "        ).values\n",
    "        \n",
    "        samples_2 = data_column_2.sample(\n",
    "            boot_len, # чтобы сохранить дисперсию, берем такой же размер выборки\n",
    "            replace = True\n",
    "        ).values\n",
    "        \n",
    "        boot_data.append(statistic(samples_1-samples_2)) \n",
    "    pd_boot_data = pd.DataFrame(boot_data)\n",
    "        \n",
    "    left_quant = (1 - bootstrap_conf_level)/2\n",
    "    right_quant = 1 - (1 - bootstrap_conf_level) / 2\n",
    "    quants = pd_boot_data.quantile([left_quant, right_quant])\n",
    "        \n",
    "    p_1 = norm.cdf(\n",
    "        x = 0, \n",
    "        loc = np.mean(boot_data), \n",
    "        scale = np.std(boot_data)\n",
    "    )\n",
    "    p_2 = norm.cdf(\n",
    "        x = 0, \n",
    "        loc = -np.mean(boot_data), \n",
    "        scale = np.std(boot_data)\n",
    "    )\n",
    "    p_value = min(p_1, p_2) * 2\n",
    "        \n",
    "    # Визуализация\n",
    "    _, _, bars = plt.hist(pd_boot_data[0], bins = 50)\n",
    "    for bar in bars:\n",
    "        if abs(bar.get_x()) <= quants.iloc[0][0] or abs(bar.get_x()) >= quants.iloc[1][0]:\n",
    "            bar.set_facecolor('red')\n",
    "        else: \n",
    "            bar.set_facecolor('grey')\n",
    "            bar.set_edgecolor('black')\n",
    "    \n",
    "    plt.style.use('ggplot')\n",
    "    plt.vlines(quants,ymin=0,ymax=50,linestyle='--')\n",
    "    plt.xlabel('boot_data')\n",
    "    plt.ylabel('frequency')\n",
    "    plt.title(\"Histogram of boot_data\")\n",
    "    plt.show()\n",
    "       \n",
    "    return {#\"boot_data\": boot_data, \n",
    "            \"quants\": quants, \n",
    "            \"p_value\": p_value}"
   ]
  },
  {
   "cell_type": "code",
   "execution_count": 39,
   "metadata": {},
   "outputs": [
    {
     "data": {
      "application/vnd.jupyter.widget-view+json": {
       "model_id": "8d07a1cd500e4b9a8b512b3bfca4673a",
       "version_major": 2,
       "version_minor": 0
      },
      "text/plain": [
       "HBox(children=(FloatProgress(value=0.0, max=1000.0), HTML(value='')))"
      ]
     },
     "metadata": {},
     "output_type": "display_data"
    },
    {
     "name": "stdout",
     "output_type": "stream",
     "text": [
      "\n"
     ]
    },
    {
     "data": {
      "image/png": "[encoded data removed]",
      "text/plain": [
       "<Figure size 432x288 with 1 Axes>"
      ]
     },
     "metadata": {},
     "output_type": "display_data"
    },
    {
     "data": {
      "text/plain": [
       "{'quants':                0\n",
       " 0.025 -21.546851\n",
       " 0.975  -0.540431,\n",
       " 'p_value': 0.0335166825349054}"
      ]
     },
     "execution_count": 39,
     "metadata": {},
     "output_type": "execute_result"
    }
   ],
   "source": [
    "get_bootstrap(control_ARPU, test_ARPU)"
   ]
  },
  {
   "cell_type": "markdown",
   "metadata": {},
   "source": [
    "`Здесь мы тоже видим, что 0 не входит в доверительный интервал, а p-value меньше 0.05, соответственно мы отклоняем H0. Различия в ARPU среди всех пользователей между тестовой и контрольной группой есть.`"
   ]
  },
  {
   "cell_type": "markdown",
   "metadata": {},
   "source": [
    "### ВЫВОД:\n",
    "\n",
    "**По результатам анализа метрик CR, ARPPU и ARPU после проведения АБ теста, мы увидели, что:**\n",
    "\n",
    "1. Статистически значимой разницы в CR между тестовой и контрольной группами нет. \n",
    "2. ARPU в тестовой группе на 22.6% выше, чем в контрольной. Метод bootstrap показал, что эта разница статистически значима.\n",
    "3. ARPPU в тестовой группе почти на 35% выше, чем в контрольной. Метод bootstrap показал, что эта разница статистически значима.\n",
    "\n",
    "**Прежде всего стоит помнить, что есть вопросы к изначальному разделению на группы для проведения А/Б теста, а именно к пропорции 20/80 в контрольной/тестовой группах. Так же есть ошибка в учете платящих пользователей: 149 пользователей как-то совершили оплату не зайдя на платформу во время эксперимента. Даже если разделение на группы было сделано специально, то с учетом оплаты у пользователей очевидно произошла какая-то ошибка. Поэтому я бы советовал перепровести А/Б тест, если такая возможность есть.**\n",
    "\n",
    "**Если такой возможности нет, а решение принимать нужно, то учитывая, что статистически значимой разницы в CR между тестовой и контрольной группами нет, но при этом ARPPU в тестовой группе вырос почти на 35%, а ARPU на 22.6% и эти результаты являются статзначимыми, думаю следует выкатить новую систему оплаты.**"
   ]
  },
  {
   "cell_type": "markdown",
   "metadata": {},
   "source": [
    "# Задание 2. SQL\n",
    "\n",
    "2.1 Очень усердные ученики.   \n",
    "\n",
    "2.1.1 Условие   \n",
    "\n",
    "Образовательные курсы состоят из различных уроков, каждый из которых состоит из нескольких маленьких заданий. Каждое такое маленькое задание называется \"горошиной\".   \n",
    "\n",
    "Назовём очень усердным учеником того пользователя, который хотя бы раз за текущий месяц правильно решил 20 горошин.   \n",
    "\n",
    "2.1.2 Задача\n",
    "\n",
    "Дана таблица\n",
    "`_default.peas:_`\n",
    "\n",
    "|Название атрибута|Тип атрибута|Смысловое значение|\n",
    "|---|---|---|\n",
    "|st_id|int|ID ученика|\n",
    "|timesst|timestamp|Время решения карточки|\n",
    "|correct|bool|Правильно ли решена горошина?|\n",
    "|subject|text|Дисциплина в которой находится горошина|\n",
    "\n",
    "\n",
    "\n",
    "\n",
    "#### Необходимо написать оптимальный запрос, который даст информацию о количестве очень усердных студентов.\n",
    "**_NB! Под усердным студентом мы понимаем студента, который правильно решил 20 задач за текущий месяц._**\n"
   ]
  },
  {
   "cell_type": "code",
   "execution_count": 40,
   "metadata": {},
   "outputs": [],
   "source": [
    "connection = {\n",
    "              'host': 'https://clickhouse.lab.karpov.courses',\n",
    "              'database':'default',\n",
    "              'user':'student', \n",
    "              'password':'dpo_python_2020'\n",
    "             }"
   ]
  },
  {
   "cell_type": "code",
   "execution_count": 41,
   "metadata": {},
   "outputs": [
    {
     "data": {
      "text/html": [
       "<div>\n",
       "<style scoped>\n",
       "    .dataframe tbody tr th:only-of-type {\n",
       "        vertical-align: middle;\n",
       "    }\n",
       "\n",
       "    .dataframe tbody tr th {\n",
       "        vertical-align: top;\n",
       "    }\n",
       "\n",
       "    .dataframe thead th {\n",
       "        text-align: right;\n",
       "    }\n",
       "</style>\n",
       "<table border=\"1\" class=\"dataframe\">\n",
       "  <thead>\n",
       "    <tr style=\"text-align: right;\">\n",
       "      <th></th>\n",
       "      <th>student_count</th>\n",
       "    </tr>\n",
       "  </thead>\n",
       "  <tbody>\n",
       "    <tr>\n",
       "      <th>0</th>\n",
       "      <td>136</td>\n",
       "    </tr>\n",
       "  </tbody>\n",
       "</table>\n",
       "</div>"
      ],
      "text/plain": [
       "   student_count\n",
       "0            136"
      ]
     },
     "execution_count": 41,
     "metadata": {},
     "output_type": "execute_result"
    }
   ],
   "source": [
    "q = \"\"\"\n",
    "SELECT COUNT(st_id) as student_count\n",
    "FROM \n",
    "(\n",
    "    SELECT st_id, COUNT(correct) as num_solved\n",
    "    FROM peas\n",
    "    WHERE correct = 1\n",
    "    GROUP BY st_id, toStartOfMonth(timest)\n",
    "    HAVING num_solved >= 20\n",
    ") as t\n",
    "\"\"\"\n",
    "df = ph.read_clickhouse(query=q, connection=connection)\n",
    "df"
   ]
  },
  {
   "cell_type": "markdown",
   "metadata": {},
   "source": [
    "#### Ответ: у нас 136 очень усердных студентов."
   ]
  },
  {
   "cell_type": "markdown",
   "metadata": {},
   "source": [
    "### 2.2 Оптимизация воронки\n",
    "\n",
    "2.2.1 Условие\n",
    "\n",
    "Образовательная платформа предлагает пройти студентам курсы по модели trial: студент может решить бесплатно лишь 30 горошин в день. Для неограниченного количества заданий в определенной дисциплине студенту необходимо приобрести полный доступ. Команда провела эксперимент, где был протестирован новый экран оплаты.\n",
    "\n",
    "2.2.2 Задача\n",
    "\n",
    "Даны таблицы: `default.peas` (см. выше), `default.studs`:\n",
    "\n",
    "|Название атрибута|Тип атрибута|Смысловое значение|\n",
    "|---|---|---|\n",
    "|st_id|int|ID ученика|\n",
    "|test_grp|text|Метка ученика в данном эксперименте|\n",
    "\n",
    "и `default.final_project_check`:\n",
    "\n",
    "|Название атрибута|Тип атрибута|Смысловое значение|\n",
    "|---|---|---|\n",
    "|st_id|int|ID ученика|\n",
    "|sale_time|timestamp|Время покупки|\n",
    "|money|int|Цена, по которой приобрели данный курс|\n",
    "|subject|text||\n",
    "\n",
    "\n",
    "Необходимо <ins>в одном запросе</ins> выгрузить следующую информацию о группах пользователей:\n",
    "\n",
    "• ARPU   \n",
    "• ARPAU    \n",
    "• CR в покупку   \n",
    "• СR активного пользователя в покупку   \n",
    "• CR пользователя из активности по математике (subject = ’math’) в покупку курса по математике  \n",
    "\n",
    "ARPU считается относительно всех пользователей, попавших в группы.\n",
    "\n",
    "**Активным** считается пользователь, за все время решивший больше 10 задач правильно в любых дисциплинах.\n",
    "\n",
    "**Активным** по математике считается пользователь, за все время решивший **2 или больше** задач правильно по математике."
   ]
  },
  {
   "cell_type": "code",
   "execution_count": 42,
   "metadata": {
    "scrolled": true
   },
   "outputs": [
    {
     "data": {
      "text/html": [
       "<div>\n",
       "<style scoped>\n",
       "    .dataframe tbody tr th:only-of-type {\n",
       "        vertical-align: middle;\n",
       "    }\n",
       "\n",
       "    .dataframe tbody tr th {\n",
       "        vertical-align: top;\n",
       "    }\n",
       "\n",
       "    .dataframe thead th {\n",
       "        text-align: right;\n",
       "    }\n",
       "</style>\n",
       "<table border=\"1\" class=\"dataframe\">\n",
       "  <thead>\n",
       "    <tr style=\"text-align: right;\">\n",
       "      <th></th>\n",
       "      <th>test_grp</th>\n",
       "      <th>ARPU</th>\n",
       "      <th>ARPAU</th>\n",
       "      <th>CR</th>\n",
       "      <th>CR_AU</th>\n",
       "      <th>CR_MATH</th>\n",
       "    </tr>\n",
       "  </thead>\n",
       "  <tbody>\n",
       "    <tr>\n",
       "      <th>0</th>\n",
       "      <td>control</td>\n",
       "      <td>4540.983607</td>\n",
       "      <td>10393.700787</td>\n",
       "      <td>4.92</td>\n",
       "      <td>11.02</td>\n",
       "      <td>6.12</td>\n",
       "    </tr>\n",
       "    <tr>\n",
       "      <th>1</th>\n",
       "      <td>pilot</td>\n",
       "      <td>11508.474576</td>\n",
       "      <td>29739.583333</td>\n",
       "      <td>10.85</td>\n",
       "      <td>26.04</td>\n",
       "      <td>9.52</td>\n",
       "    </tr>\n",
       "  </tbody>\n",
       "</table>\n",
       "</div>"
      ],
      "text/plain": [
       "  test_grp          ARPU         ARPAU     CR  CR_AU  CR_MATH\n",
       "0  control   4540.983607  10393.700787   4.92  11.02     6.12\n",
       "1    pilot  11508.474576  29739.583333  10.85  26.04     9.52"
      ]
     },
     "execution_count": 42,
     "metadata": {},
     "output_type": "execute_result"
    }
   ],
   "source": [
    "q = \"\"\"\n",
    "SELECT\n",
    "    t1.test_grp as test_grp,\n",
    "    t1.ARPU as ARPU,\n",
    "    t2.ARPAU as ARPAU,\n",
    "    t3.CR as CR,\n",
    "    t2.CR_AU as CR_AU,\n",
    "    t4.CR_MATH as CR_MATH\n",
    "FROM\n",
    "    (\n",
    "    SELECT \n",
    "        test_grp, \n",
    "        avg(rev) AS ARPU\n",
    "    FROM \n",
    "        (\n",
    "        SELECT test_grp, a.st_id AS st_id, sum(money) AS rev\n",
    "        FROM studs a\n",
    "        LEFT JOIN final_project_check b\n",
    "        ON a.st_id = b.st_id\n",
    "        GROUP BY test_grp, st_id\n",
    "        ) AS p\n",
    "    GROUP BY test_grp\n",
    "    ) as t1\n",
    "LEFT JOIN\n",
    "    (\n",
    "    SELECT\n",
    "        test_grp,\n",
    "        avg(rev) AS ARPAU,\n",
    "        ROUND(uniqExactIf(c.st_id, notEmpty(c.st_id)) / COUNT(distinct a.st_id) * 100, 2) AS CR_AU\n",
    "    FROM \n",
    "        (\n",
    "        SELECT st_id, sum(correct) AS corr_ans\n",
    "        FROM peas\n",
    "        GROUP BY st_id\n",
    "        HAVING corr_ans > 10\n",
    "        ) AS a\n",
    "    LEFT JOIN\n",
    "        studs AS b\n",
    "            ON a.st_id = b.st_id\n",
    "    LEFT JOIN\n",
    "        (\n",
    "        SELECT st_id, sum(money) AS rev\n",
    "        FROM final_project_check b\n",
    "        GROUP BY st_id\n",
    "        ) AS c\n",
    "            ON a.st_id = c.st_id\n",
    "    GROUP BY test_grp\n",
    "    ) as t2\n",
    "ON t1.test_grp = t2.test_grp\n",
    "LEFT JOIN\n",
    "    (\n",
    "    SELECT\n",
    "        test_grp,\n",
    "        ROUND(uniqExactIf(b.st_id, notEmpty(b.st_id)) / COUNT(distinct a.st_id) * 100,2) AS CR\n",
    "    FROM \n",
    "        studs AS a\n",
    "    LEFT JOIN\n",
    "        (\n",
    "        SELECT distinct st_id\n",
    "        FROM final_project_check b\n",
    "        ) AS b\n",
    "            ON a.st_id = b.st_id\n",
    "    GROUP BY test_grp\n",
    "    ) as t3\n",
    "ON t1.test_grp = t3.test_grp\n",
    "LEFT JOIN\n",
    "    (\n",
    "    SELECT\n",
    "        test_grp,\n",
    "        ROUND(uniqExactIf(c.st_id, notEmpty(c.st_id)) / COUNT(distinct a.st_id) * 100,2) AS CR_MATH\n",
    "    FROM \n",
    "        (\n",
    "        SELECT st_id, sum(correct) AS corr_ans\n",
    "        FROM peas\n",
    "        WHERE subject = 'Math'\n",
    "        GROUP BY st_id\n",
    "        HAVING corr_ans >= 2\n",
    "        ) AS a\n",
    "    LEFT JOIN\n",
    "        studs AS b\n",
    "            ON a.st_id = b.st_id\n",
    "    LEFT JOIN\n",
    "        (\n",
    "        SELECT distinct st_id\n",
    "        FROM final_project_check b\n",
    "        WHERE subject = 'Math'\n",
    "        ) AS c\n",
    "            ON a.st_id = c.st_id\n",
    "    GROUP BY test_grp\n",
    "    ) as t4\n",
    "ON t1.test_grp = t4.test_grp\n",
    "\"\"\"\n",
    "df = ph.read_clickhouse(query=q, connection=connection)\n",
    "df"
   ]
  },
  {
   "cell_type": "markdown",
   "metadata": {},
   "source": [
    "# Задание 3. Python\n",
    "3.1 Задача\n",
    "\n",
    "1. Реализуйте функцию, которая будет автоматически подгружать информацию из дополнительного файла `groups_add.csv` (заголовки могут отличаться) и на основании дополнительных параметров пересчитывать метрики.\n",
    "2. Реализуйте функцию, которая будет строить графики по получаемым метрикам."
   ]
  },
  {
   "cell_type": "markdown",
   "metadata": {},
   "source": [
    "Выпишем ссылки на файлы:"
   ]
  },
  {
   "cell_type": "code",
   "execution_count": 43,
   "metadata": {},
   "outputs": [],
   "source": [
    "groups       = 'https://disk.yandex.ru/d/UhyYx41rTt3clQ'\n",
    "groups_add   = 'https://disk.yandex.ru/d/5Kxrz02m3IBUwQ'\n",
    "active_studs = 'https://disk.yandex.ru/d/Tbs44Bm6H_FwFQ'\n",
    "checks       = 'https://disk.yandex.ru/d/pH1q-VqcxXjsVA'"
   ]
  },
  {
   "cell_type": "markdown",
   "metadata": {},
   "source": [
    "Напишем функцию загрузки файла и считывания датафрейма:"
   ]
  },
  {
   "cell_type": "code",
   "execution_count": 44,
   "metadata": {},
   "outputs": [],
   "source": [
    "def download_file(p_key):\n",
    "    base_url = 'https://cloud-api.yandex.net/v1/disk/public/resources/download?'\n",
    "\n",
    "    # получаем загрузочную ссылку\n",
    "    final_url = base_url + urlencode(dict(public_key=p_key))\n",
    "    response = requests.get(final_url)\n",
    "    download_url = response.json()['href']\n",
    "\n",
    "    # считываем файл\n",
    "    df = pd.read_csv(download_url, sep=r',|;', engine='python')\n",
    "    \n",
    "    return df"
   ]
  },
  {
   "cell_type": "markdown",
   "metadata": {},
   "source": [
    "Напишем функцию для вычисления всех метрик. Потом соберем их в один удобный датафрейм."
   ]
  },
  {
   "cell_type": "code",
   "execution_count": 45,
   "metadata": {
    "scrolled": true
   },
   "outputs": [],
   "source": [
    "def calculate_metrics():\n",
    "    # подгружаем датафреймы    \n",
    "    groups_df       = download_file(groups)\n",
    "    groups_add_df   = download_file(groups_add)\n",
    "    active_studs_df = download_file(active_studs)\n",
    "    checks_df       = download_file(checks)\n",
    "    \n",
    "    # объединяем все таблицы, переименовываем колонки где нужно\n",
    "    frames = [groups_df, groups_add_df]\n",
    "    all_users_df = pd.concat(frames, ignore_index=True)\n",
    "\n",
    "    active_studs_df = active_studs_df.rename(columns={'\"student_id\"': 'id'})\n",
    "    active_groups = active_studs_df.merge(all_users_df, on='id', how='left')\n",
    "\n",
    "    checks_df = checks_df.rename(columns={'\"student_id\"': 'id', '\"rev\"': 'rev'})\n",
    "    full_df = active_groups.merge(checks_df, on='id', how='left').fillna(0)\n",
    "    \n",
    "    # переименуем названия групп из \"A\" & \"B\" в \"Control\" & \"Test\", чтобы потом было удобнее визуализировать\n",
    "    full_df['grp'] = full_df['grp'].apply(lambda x: 'Control' if x == 'A' else 'Test')\n",
    "    \n",
    "    # добавляем колонку оплатил/не оплатил\n",
    "    full_df['category'] = full_df['rev'].apply(lambda x: 1 if x > 0 else 0)\n",
    "    \n",
    "    # создаем финальный датафрейм со всеми метриками\n",
    "    final_metrics_df = full_df.groupby('grp', as_index=False) \\\n",
    "        .agg({'id': 'count',\n",
    "              'category': 'sum',\n",
    "              'rev': 'sum'}) \\\n",
    "        .rename(columns={'grp': 'group',\n",
    "                         'id': 'total_users',\n",
    "                         'category': 'paying_users',\n",
    "                         'rev': 'revenue'})\n",
    "    \n",
    "    final_metrics_df['CR'] = final_metrics_df.paying_users / final_metrics_df.total_users * 100\n",
    "    final_metrics_df['ARPU'] = final_metrics_df.revenue / final_metrics_df.total_users\n",
    "    final_metrics_df['ARPPU'] = final_metrics_df.revenue / final_metrics_df.paying_users\n",
    "    \n",
    "    return final_metrics_df\n",
    "\n"
   ]
  },
  {
   "cell_type": "code",
   "execution_count": 46,
   "metadata": {},
   "outputs": [
    {
     "data": {
      "text/html": [
       "<div>\n",
       "<style scoped>\n",
       "    .dataframe tbody tr th:only-of-type {\n",
       "        vertical-align: middle;\n",
       "    }\n",
       "\n",
       "    .dataframe tbody tr th {\n",
       "        vertical-align: top;\n",
       "    }\n",
       "\n",
       "    .dataframe thead th {\n",
       "        text-align: right;\n",
       "    }\n",
       "</style>\n",
       "<table border=\"1\" class=\"dataframe\">\n",
       "  <thead>\n",
       "    <tr style=\"text-align: right;\">\n",
       "      <th></th>\n",
       "      <th>group</th>\n",
       "      <th>total_users</th>\n",
       "      <th>paying_users</th>\n",
       "      <th>revenue</th>\n",
       "      <th>CR</th>\n",
       "      <th>ARPU</th>\n",
       "      <th>ARPPU</th>\n",
       "    </tr>\n",
       "  </thead>\n",
       "  <tbody>\n",
       "    <tr>\n",
       "      <th>0</th>\n",
       "      <td>Control</td>\n",
       "      <td>1538</td>\n",
       "      <td>78</td>\n",
       "      <td>72820.0000</td>\n",
       "      <td>5.071521</td>\n",
       "      <td>47.347204</td>\n",
       "      <td>933.589744</td>\n",
       "    </tr>\n",
       "    <tr>\n",
       "      <th>1</th>\n",
       "      <td>Test</td>\n",
       "      <td>6803</td>\n",
       "      <td>314</td>\n",
       "      <td>394974.0035</td>\n",
       "      <td>4.615611</td>\n",
       "      <td>58.058798</td>\n",
       "      <td>1257.878992</td>\n",
       "    </tr>\n",
       "  </tbody>\n",
       "</table>\n",
       "</div>"
      ],
      "text/plain": [
       "     group  total_users  paying_users      revenue        CR       ARPU  \\\n",
       "0  Control         1538            78   72820.0000  5.071521  47.347204   \n",
       "1     Test         6803           314  394974.0035  4.615611  58.058798   \n",
       "\n",
       "         ARPPU  \n",
       "0   933.589744  \n",
       "1  1257.878992  "
      ]
     },
     "execution_count": 46,
     "metadata": {},
     "output_type": "execute_result"
    }
   ],
   "source": [
    "temp_df = calculate_metrics()\n",
    "temp_df"
   ]
  },
  {
   "cell_type": "markdown",
   "metadata": {},
   "source": [
    "Напишем функцию для визуализации основных метрик:"
   ]
  },
  {
   "cell_type": "code",
   "execution_count": 47,
   "metadata": {},
   "outputs": [],
   "source": [
    "def visualize_metrics(df = temp_df):\n",
    "    \n",
    "    sns.set_style(\"whitegrid\")\n",
    "\n",
    "    fig, ((ax1, ax2), (ax3, ax4)) = plt.subplots(2, 2, figsize=(12, 8))\n",
    "\n",
    "    sns.barplot(data=df, x = 'group', y = 'revenue', ax=ax1)\n",
    "    sns.barplot(data=df, x = 'group', y = 'ARPPU',   ax=ax2)\n",
    "    sns.barplot(data=df, x = 'group', y = 'CR',      ax=ax3)\n",
    "    sns.barplot(data=df, x = 'group', y = 'ARPU',    ax=ax4)\n",
    "\n",
    "    ax1.set_ylabel('Revenue')\n",
    "    ax3.set_ylabel('CR(%)')\n",
    "\n",
    "    ax1.set_xlabel('')\n",
    "    ax2.set_xlabel('')\n",
    "    ax3.set_xlabel('')\n",
    "    ax4.set_xlabel('')\n",
    "\n",
    "    plt.show()\n",
    "\n",
    "    "
   ]
  },
  {
   "cell_type": "code",
   "execution_count": 48,
   "metadata": {},
   "outputs": [
    {
     "data": {
      "image/png": "[encoded data removed]",
      "text/plain": [
       "<Figure size 864x576 with 4 Axes>"
      ]
     },
     "metadata": {},
     "output_type": "display_data"
    }
   ],
   "source": [
    "visualize_metrics()"
   ]
  }
 ],
 "metadata": {
  "kernelspec": {
   "display_name": "Python 3",
   "language": "python",
   "name": "python3"
  },
  "language_info": {
   "codemirror_mode": {
    "name": "ipython",
    "version": 3
   },
   "file_extension": ".py",
   "mimetype": "text/x-python",
   "name": "python",
   "nbconvert_exporter": "python",
   "pygments_lexer": "ipython3",
   "version": "3.7.3"
  }
 },
 "nbformat": 4,
 "nbformat_minor": 5
}
